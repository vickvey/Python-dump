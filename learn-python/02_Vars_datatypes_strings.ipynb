{
 "cells": [
  {
   "cell_type": "markdown",
   "source": [
    "# 1. Variables"
   ],
   "metadata": {
    "collapsed": false
   },
   "id": "d32ac2d06ad7f6"
  },
  {
   "cell_type": "code",
   "execution_count": 1,
   "outputs": [
    {
     "name": "stdout",
     "output_type": "stream",
     "text": [
      "fantastic\n"
     ]
    }
   ],
   "source": [
    "# Variables are created when you assign a value to it\n",
    "x = 5\n",
    "y = 'Hello World'\n",
    "\n",
    "# Method to assign multiple variables\n",
    "p, q, r = \"Apples\", \"Bananas\", \"Coconuts\"\n",
    "\n",
    "# Assign same value to multiple variables\n",
    "a = b = c = 'Python'\n",
    "\n",
    "\n",
    "# Make the variable global\n",
    "def myfunc():\n",
    "    global x\n",
    "    x = \"fantastic\"\n",
    "    print(x)\n",
    "    \n",
    "# calling the myfunc\n",
    "myfunc()"
   ],
   "metadata": {
    "collapsed": false,
    "ExecuteTime": {
     "end_time": "2023-12-06T10:02:43.190830573Z",
     "start_time": "2023-12-06T10:02:43.153649975Z"
    }
   },
   "id": "b360e911da8a8ddf"
  },
  {
   "cell_type": "markdown",
   "source": [
    "# 2. Datatypes"
   ],
   "metadata": {
    "collapsed": false
   },
   "id": "8a0353b7ddbee403"
  },
  {
   "cell_type": "code",
   "execution_count": 2,
   "outputs": [
    {
     "name": "stdout",
     "output_type": "stream",
     "text": [
      "<class 'int'>\n"
     ]
    }
   ],
   "source": [
    "# code to print the type of variable\n",
    "ab = 5\n",
    "print(type(ab)) # int"
   ],
   "metadata": {
    "collapsed": false,
    "ExecuteTime": {
     "end_time": "2023-12-06T10:02:43.191302218Z",
     "start_time": "2023-12-06T10:02:43.153919880Z"
    }
   },
   "id": "b8af83c8da69604f"
  },
  {
   "cell_type": "code",
   "execution_count": 3,
   "outputs": [
    {
     "name": "stdout",
     "output_type": "stream",
     "text": [
      "<class 'tuple'>\n"
     ]
    }
   ],
   "source": [
    "xy = (\"apples\", \"bananas\", \"cherry\")\n",
    "print(type(xy)) # tuple"
   ],
   "metadata": {
    "collapsed": false,
    "ExecuteTime": {
     "end_time": "2023-12-06T10:02:43.191551619Z",
     "start_time": "2023-12-06T10:02:43.154041497Z"
    }
   },
   "id": "f9f59dbc7387cac4"
  },
  {
   "cell_type": "code",
   "execution_count": 4,
   "outputs": [
    {
     "name": "stdout",
     "output_type": "stream",
     "text": [
      "<class 'dict'>\n"
     ]
    }
   ],
   "source": [
    "abb = {'name' : 'John', 'age' : '36'}\n",
    "print(type(abb)) # dictionary"
   ],
   "metadata": {
    "collapsed": false,
    "ExecuteTime": {
     "end_time": "2023-12-06T10:02:43.191796034Z",
     "start_time": "2023-12-06T10:02:43.154140555Z"
    }
   },
   "id": "c3fa7414eb02f1f4"
  },
  {
   "cell_type": "markdown",
   "source": [
    "# 3. Strings"
   ],
   "metadata": {
    "collapsed": false
   },
   "id": "34faef30be2a8c5a"
  },
  {
   "cell_type": "code",
   "execution_count": 5,
   "outputs": [],
   "source": [
    "# Get the characters from index 2 to 4\n",
    "txt = \" Hello World \"\n",
    "abcb = txt[2:5] # 2 is included while 5 is not\n"
   ],
   "metadata": {
    "collapsed": false,
    "ExecuteTime": {
     "end_time": "2023-12-06T10:02:43.191983799Z",
     "start_time": "2023-12-06T10:02:43.154230735Z"
    }
   },
   "id": "ea7f2a91b8b4a32a"
  },
  {
   "cell_type": "code",
   "execution_count": 6,
   "outputs": [
    {
     "name": "stdout",
     "output_type": "stream",
     "text": [
      "Hello World\n"
     ]
    }
   ],
   "source": [
    "# return the string without any whitespaces at the beginning or at the end\n",
    "print(txt.strip())"
   ],
   "metadata": {
    "collapsed": false,
    "ExecuteTime": {
     "end_time": "2023-12-06T10:02:43.192206202Z",
     "start_time": "2023-12-06T10:02:43.154773632Z"
    }
   },
   "id": "72b7b76e71c67c36"
  },
  {
   "cell_type": "code",
   "execution_count": 7,
   "outputs": [
    {
     "name": "stdout",
     "output_type": "stream",
     "text": [
      " HELLO WORLD \n",
      " hello world \n",
      " Jello World \n"
     ]
    }
   ],
   "source": [
    "# change the letters in upper case format\n",
    "txt = \" Hello World \"\n",
    "print(txt.upper())\n",
    "print(txt.lower())\n",
    "\n",
    "# replace a character H with a J\n",
    "print(txt.replace(\"H\", \"J\"))"
   ],
   "metadata": {
    "collapsed": false,
    "ExecuteTime": {
     "end_time": "2023-12-06T10:02:43.192428625Z",
     "start_time": "2023-12-06T10:02:43.154864665Z"
    }
   },
   "id": "ebaba2e1cd54583b"
  },
  {
   "cell_type": "code",
   "execution_count": 8,
   "outputs": [
    {
     "name": "stdout",
     "output_type": "stream",
     "text": [
      "My name is John, and I am 36\n"
     ]
    }
   ],
   "source": [
    "# Insert the correct syntax to add a placeholder for the age parameter\n",
    "age = 36\n",
    "txt = \"My name is John, and I am {}\"\n",
    "print(txt.format(age))"
   ],
   "metadata": {
    "collapsed": false,
    "ExecuteTime": {
     "end_time": "2023-12-06T10:02:43.192644297Z",
     "start_time": "2023-12-06T10:02:43.154943184Z"
    }
   },
   "id": "e073a09c09d7f372"
  },
  {
   "cell_type": "markdown",
   "source": [
    "# 4. Booleans"
   ],
   "metadata": {
    "collapsed": false
   },
   "id": "5a54ce67cf1ac9b9"
  },
  {
   "cell_type": "code",
   "execution_count": 9,
   "outputs": [
    {
     "name": "stdout",
     "output_type": "stream",
     "text": [
      "True\n"
     ]
    }
   ],
   "source": [
    "print(10 > 9) # True"
   ],
   "metadata": {
    "collapsed": false,
    "ExecuteTime": {
     "end_time": "2023-12-06T10:02:43.192874881Z",
     "start_time": "2023-12-06T10:02:43.155021922Z"
    }
   },
   "id": "d54a7e1751919428"
  },
  {
   "cell_type": "markdown",
   "source": [
    "# 5. Operators"
   ],
   "metadata": {
    "collapsed": false
   },
   "id": "e3f31132b65d29d4"
  },
  {
   "cell_type": "code",
   "execution_count": 10,
   "outputs": [
    {
     "name": "stdout",
     "output_type": "stream",
     "text": [
      "15\n",
      "5.0\n"
     ]
    }
   ],
   "source": [
    "print(10 + 5) # 15\n",
    "print(10 / 2) # 5 (float division)\n"
   ],
   "metadata": {
    "collapsed": false,
    "ExecuteTime": {
     "end_time": "2023-12-06T10:02:43.193085487Z",
     "start_time": "2023-12-06T10:02:43.155102370Z"
    }
   },
   "id": "9ac50fd79f436409"
  },
  {
   "cell_type": "markdown",
   "source": [
    "# 6. Basic Data Structures\n",
    "## 6.1 Lists"
   ],
   "metadata": {
    "collapsed": false
   },
   "id": "25b6f7d28f87235d"
  },
  {
   "cell_type": "code",
   "execution_count": 11,
   "outputs": [
    {
     "name": "stdout",
     "output_type": "stream",
     "text": [
      "Yes, apple is a fruit!\n"
     ]
    }
   ],
   "source": [
    "fruits = [\"apple\", \"banana\"]\n",
    "if \"apple\" in fruits:\n",
    "    print(\"Yes, apple is a fruit!\")"
   ],
   "metadata": {
    "collapsed": false,
    "ExecuteTime": {
     "end_time": "2023-12-06T10:02:43.193368322Z",
     "start_time": "2023-12-06T10:02:43.176537749Z"
    }
   },
   "id": "8c8526c821d6ac62"
  },
  {
   "cell_type": "code",
   "execution_count": 12,
   "outputs": [
    {
     "name": "stdout",
     "output_type": "stream",
     "text": [
      "Your case is true.\n"
     ]
    }
   ],
   "source": [
    "if 5 > 4 or 4 < 2:\n",
    "    print(\"Your case is true.\\n\")\n"
   ],
   "metadata": {
    "collapsed": false,
    "ExecuteTime": {
     "end_time": "2023-12-06T10:02:43.193585331Z",
     "start_time": "2023-12-06T10:02:43.176700746Z"
    }
   },
   "id": "3a5f6c575007bef6"
  },
  {
   "cell_type": "code",
   "execution_count": 13,
   "outputs": [
    {
     "name": "stdout",
     "output_type": "stream",
     "text": [
      "['apple', 'banana', 'orange']\n"
     ]
    }
   ],
   "source": [
    "# append() method to insert an element at the end of list\n",
    "fruits = [\"apple\", \"banana\", \"orange\"]\n",
    "print(fruits)"
   ],
   "metadata": {
    "collapsed": false,
    "ExecuteTime": {
     "end_time": "2023-12-06T10:02:43.193787914Z",
     "start_time": "2023-12-06T10:02:43.176805699Z"
    }
   },
   "id": "58bb85745c00d0bf"
  },
  {
   "cell_type": "code",
   "execution_count": 14,
   "outputs": [
    {
     "name": "stdout",
     "output_type": "stream",
     "text": [
      "['apple', 'lemon', 'banana', 'orange']\n"
     ]
    }
   ],
   "source": [
    "# insert() method to add an element at the position of list\n",
    "fruits.insert(1, \"lemon\") # insert at position 2nd position \n",
    "print(fruits)"
   ],
   "metadata": {
    "collapsed": false,
    "ExecuteTime": {
     "end_time": "2023-12-06T10:02:43.194307390Z",
     "start_time": "2023-12-06T10:02:43.176886480Z"
    }
   },
   "id": "b002cda702403f0"
  },
  {
   "cell_type": "code",
   "execution_count": 15,
   "outputs": [
    {
     "name": "stdout",
     "output_type": "stream",
     "text": [
      "['apple', 'lemon', 'banana', 'orange']\n",
      "4\n"
     ]
    }
   ],
   "source": [
    "# remove method to remove an element\n",
    "# fruits.remove(\"banana\")\n",
    "print(fruits)\n",
    "print(len(fruits)) # number of items in the list"
   ],
   "metadata": {
    "collapsed": false,
    "ExecuteTime": {
     "end_time": "2023-12-06T10:02:43.194542463Z",
     "start_time": "2023-12-06T10:02:43.176954536Z"
    }
   },
   "id": "e801ff2f6013bcf4"
  },
  {
   "cell_type": "markdown",
   "source": [
    "## 6.1.1 Python has negative indexing.\n",
    "Ex. list[-1] means last element of the list"
   ],
   "metadata": {
    "collapsed": false
   },
   "id": "42bb90574f3236ad"
  },
  {
   "cell_type": "markdown",
   "source": [
    "## 6.2 Tuples"
   ],
   "metadata": {
    "collapsed": false
   },
   "id": "d991bbcb94a409d0"
  },
  {
   "cell_type": "code",
   "execution_count": 16,
   "outputs": [
    {
     "name": "stdout",
     "output_type": "stream",
     "text": [
      "apple\n",
      "cherry\n",
      "3\n"
     ]
    }
   ],
   "source": [
    "fruits = (\"apple\", \"banana\", \"cherry\")\n",
    "print(fruits[0]) # apple\n",
    "print(fruits[2]) # cherry\n",
    "\n",
    "print(len(fruits)) # number of items in tuple fruits"
   ],
   "metadata": {
    "collapsed": false,
    "ExecuteTime": {
     "end_time": "2023-12-06T10:02:43.194739676Z",
     "start_time": "2023-12-06T10:02:43.177123270Z"
    }
   },
   "id": "6f92497dee03e024"
  },
  {
   "cell_type": "markdown",
   "source": [
    "## 6.3 Set"
   ],
   "metadata": {
    "collapsed": false
   },
   "id": "7589be18e2df1ea6"
  },
  {
   "cell_type": "code",
   "execution_count": 17,
   "outputs": [
    {
     "name": "stdout",
     "output_type": "stream",
     "text": [
      "Yes, apple is a fruit\n",
      "{'banana', 'apple', 'orange', 'cherry'}\n"
     ]
    }
   ],
   "source": [
    "# A set is given by variable assigning to elements in curly braces\n",
    "fruits = {\"apple\", \"banana\", \"cherry\"}\n",
    "if \"apple\" in fruits:\n",
    "    print(\"Yes, apple is a fruit\")\n",
    "    \n",
    "# adding an element\n",
    "fruits.add(\"orange\")\n",
    "print(fruits)"
   ],
   "metadata": {
    "collapsed": false,
    "ExecuteTime": {
     "end_time": "2023-12-06T10:02:43.194932929Z",
     "start_time": "2023-12-06T10:02:43.177195016Z"
    }
   },
   "id": "4a07bb700d6e6a87"
  },
  {
   "cell_type": "code",
   "execution_count": 18,
   "outputs": [
    {
     "name": "stdout",
     "output_type": "stream",
     "text": [
      "{'orange', 'cherry', 'grapes', 'banana', 'apple', 'mango'}\n",
      "{'orange', 'cherry', 'grapes', 'apple', 'mango'}\n"
     ]
    }
   ],
   "source": [
    "# Correct method to add multiple items (more_fruits) to the fruits set.\n",
    "fruits = {\"apple\", \"banana\", \"cherry\"}\n",
    "more_fruits = [\"orange\", \"mango\", \"grapes\"]\n",
    "\n",
    "fruits.update(more_fruits)\n",
    "print(fruits)\n",
    "\n",
    "fruits.remove(\"banana\")\n",
    "print(fruits)\n",
    "\n",
    "# You can also use the remove by using 'discard' method\n",
    "# fruits.discard(\"banana\")"
   ],
   "metadata": {
    "collapsed": false,
    "ExecuteTime": {
     "end_time": "2023-12-06T10:02:43.195121643Z",
     "start_time": "2023-12-06T10:02:43.177263667Z"
    }
   },
   "id": "f50dc7d38d84bdc7"
  },
  {
   "cell_type": "markdown",
   "source": [
    "## 6.4 Dictionary"
   ],
   "metadata": {
    "collapsed": false
   },
   "id": "8f85a8e1fa91d3a2"
  },
  {
   "cell_type": "code",
   "execution_count": 19,
   "outputs": [
    {
     "name": "stdout",
     "output_type": "stream",
     "text": [
      "mustang\n",
      "{'brand': 'Ford', 'model': 'mustang', 'year': 2020}\n",
      "{'brand': 'Ford', 'model': 'mustang', 'year': 2020, 'color': 'red'}\n",
      "{'brand': 'Ford', 'year': 2020, 'color': 'red'}\n",
      "{}\n"
     ]
    }
   ],
   "source": [
    "# example of a dictionary \n",
    "car = {\n",
    "    \"brand\" : \"Ford\",\n",
    "    \"model\" : \"mustang\",\n",
    "    \"year\" : 1964\n",
    "}\n",
    "\n",
    "# using get method to get the model of car\n",
    "print(car.get(\"model\"))\n",
    "\n",
    "# change the year value to 2020\n",
    "car[\"year\"] = 2020\n",
    "print(car)\n",
    "\n",
    "# add the key-value pair \"color\":\"red\" to the car dictionary\n",
    "car[\"color\"] = \"red\"\n",
    "print(car)\n",
    "\n",
    "# use the pop() method to remove \"model\" from the car dictionary\n",
    "car.pop(\"model\")\n",
    "print(car)\n",
    "\n",
    "# use the clear() method to empty the car dictionary\n",
    "car.clear()\n",
    "print(car)"
   ],
   "metadata": {
    "collapsed": false,
    "ExecuteTime": {
     "end_time": "2023-12-06T10:02:43.195313893Z",
     "start_time": "2023-12-06T10:02:43.177333612Z"
    }
   },
   "id": "18ead6ce65589cf3"
  },
  {
   "cell_type": "markdown",
   "source": [
    "# 7. If..Else"
   ],
   "metadata": {
    "collapsed": false
   },
   "id": "86c5a4be94903d03"
  },
  {
   "cell_type": "code",
   "execution_count": 20,
   "outputs": [
    {
     "name": "stdout",
     "output_type": "stream",
     "text": [
      "hello\n",
      "world\n"
     ]
    }
   ],
   "source": [
    "# using if greater than\n",
    "if 44 > 10 :\n",
    "    print(\"hello\")\n",
    "if 12 != 30 :\n",
    "    print(\"world\")\n",
    "    "
   ],
   "metadata": {
    "collapsed": false,
    "ExecuteTime": {
     "end_time": "2023-12-06T10:02:43.343637765Z",
     "start_time": "2023-12-06T10:02:43.177402496Z"
    }
   },
   "id": "cceef333b98bb8da"
  },
  {
   "cell_type": "code",
   "execution_count": 21,
   "outputs": [
    {
     "name": "stdout",
     "output_type": "stream",
     "text": [
      "NO\n"
     ]
    }
   ],
   "source": [
    "a = 2\n",
    "b = 5\n",
    "print(\"YES\") if a == b else print(\"NO\")"
   ],
   "metadata": {
    "collapsed": false,
    "ExecuteTime": {
     "end_time": "2023-12-06T10:02:43.344231323Z",
     "start_time": "2023-12-06T10:02:43.219921773Z"
    }
   },
   "id": "86d2ab86f3315fe8"
  },
  {
   "cell_type": "markdown",
   "source": [
    "# 8. Loops\n",
    "## 8.1 While Loops"
   ],
   "metadata": {
    "collapsed": false
   },
   "id": "ec90476126583305"
  },
  {
   "cell_type": "code",
   "execution_count": 22,
   "outputs": [
    {
     "name": "stdout",
     "output_type": "stream",
     "text": [
      "1\n",
      "2\n",
      "3\n",
      "4\n",
      "5\n"
     ]
    }
   ],
   "source": [
    "# Simple while loop\n",
    "i = 1\n",
    "while i < 6 : \n",
    "    print(i)\n",
    "    i += 1"
   ],
   "metadata": {
    "collapsed": false,
    "ExecuteTime": {
     "end_time": "2023-12-06T10:02:43.344449649Z",
     "start_time": "2023-12-06T10:02:43.220065932Z"
    }
   },
   "id": "2a5c9864d4d822a1"
  },
  {
   "cell_type": "code",
   "execution_count": 23,
   "outputs": [
    {
     "name": "stdout",
     "output_type": "stream",
     "text": [
      "1\n",
      "2\n",
      "3\n"
     ]
    }
   ],
   "source": [
    "# Using break statement\n",
    "i = 1\n",
    "while i < 6:\n",
    "    print(i)\n",
    "    if i == 3:\n",
    "        break\n",
    "    i += 1"
   ],
   "metadata": {
    "collapsed": false,
    "ExecuteTime": {
     "end_time": "2023-12-06T10:02:43.344680721Z",
     "start_time": "2023-12-06T10:02:43.220147844Z"
    }
   },
   "id": "ab425899ffd890fc"
  },
  {
   "cell_type": "code",
   "execution_count": 24,
   "outputs": [
    {
     "name": "stdout",
     "output_type": "stream",
     "text": [
      "1\n",
      "2\n",
      "4\n",
      "5\n",
      "6\n"
     ]
    }
   ],
   "source": [
    "# Using continue statement\n",
    "i = 0\n",
    "while i < 6:\n",
    "    i += 1\n",
    "    if i == 3:\n",
    "        continue\n",
    "    print(i)"
   ],
   "metadata": {
    "collapsed": false,
    "ExecuteTime": {
     "end_time": "2023-12-06T10:02:43.344895721Z",
     "start_time": "2023-12-06T10:02:43.220225691Z"
    }
   },
   "id": "820ac4f2241bc560"
  },
  {
   "cell_type": "code",
   "execution_count": 25,
   "outputs": [
    {
     "name": "stdout",
     "output_type": "stream",
     "text": [
      "1\n",
      "2\n",
      "3\n",
      "4\n",
      "5\n",
      "i is no longer less than 6\n"
     ]
    }
   ],
   "source": [
    "# Print the message once the condition is false\n",
    "i = 1\n",
    "while i < 6:\n",
    "    print(i)\n",
    "    i += 1\n",
    "else:\n",
    "    print(\"i is no longer less than 6\")"
   ],
   "metadata": {
    "collapsed": false,
    "ExecuteTime": {
     "end_time": "2023-12-06T10:02:43.345124289Z",
     "start_time": "2023-12-06T10:02:43.220303964Z"
    }
   },
   "id": "94b4015355da073b"
  },
  {
   "cell_type": "markdown",
   "source": [
    "## 8.2 For Loops"
   ],
   "metadata": {
    "collapsed": false
   },
   "id": "8aa8a3618c53f796"
  },
  {
   "cell_type": "code",
   "execution_count": 26,
   "outputs": [
    {
     "name": "stdout",
     "output_type": "stream",
     "text": [
      "apple\n",
      "banana\n",
      "cherry\n",
      "apple\n",
      "cherry\n"
     ]
    }
   ],
   "source": [
    "fruits = [\"apple\", \"banana\", \"cherry\"]\n",
    "for x in fruits:\n",
    "    print(x)\n",
    "    \n",
    "# Using continue in for loop\n",
    "for x in fruits:\n",
    "    if x == \"banana\":\n",
    "        continue\n",
    "    print(x)"
   ],
   "metadata": {
    "collapsed": false,
    "ExecuteTime": {
     "end_time": "2023-12-06T10:02:43.345314335Z",
     "start_time": "2023-12-06T10:02:43.220478039Z"
    }
   },
   "id": "6200e12a2ac73161"
  },
  {
   "cell_type": "markdown",
   "source": [
    "### 8.2.1 Using range() function to loop through a code set 6 times."
   ],
   "metadata": {
    "collapsed": false
   },
   "id": "754a05429bcd3ee9"
  },
  {
   "cell_type": "code",
   "execution_count": 27,
   "outputs": [
    {
     "name": "stdout",
     "output_type": "stream",
     "text": [
      "0 1 2 3 4 5 "
     ]
    }
   ],
   "source": [
    "for x in range(6):\n",
    "    print(x, end=\" \")"
   ],
   "metadata": {
    "collapsed": false,
    "ExecuteTime": {
     "end_time": "2023-12-06T10:02:43.345538081Z",
     "start_time": "2023-12-06T10:02:43.220557338Z"
    }
   },
   "id": "70acc31c62589903"
  }
 ],
 "metadata": {
  "kernelspec": {
   "display_name": "Python 3",
   "language": "python",
   "name": "python3"
  },
  "language_info": {
   "codemirror_mode": {
    "name": "ipython",
    "version": 2
   },
   "file_extension": ".py",
   "mimetype": "text/x-python",
   "name": "python",
   "nbconvert_exporter": "python",
   "pygments_lexer": "ipython2",
   "version": "2.7.6"
  }
 },
 "nbformat": 4,
 "nbformat_minor": 5
}
