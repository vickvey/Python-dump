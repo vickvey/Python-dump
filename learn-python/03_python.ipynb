{
 "cells": [
  {
   "cell_type": "markdown",
   "source": [
    "# 9. Functions"
   ],
   "metadata": {
    "collapsed": false
   },
   "id": "fcc4074d5ed9f95b"
  },
  {
   "cell_type": "code",
   "execution_count": 2,
   "outputs": [
    {
     "name": "stdout",
     "output_type": "stream",
     "text": [
      "Hello World!\n"
     ]
    }
   ],
   "source": [
    "# example defining a function\n",
    "def my_function():\n",
    "    print(\"Hello World!\")\n",
    "my_function()"
   ],
   "metadata": {
    "collapsed": false,
    "ExecuteTime": {
     "end_time": "2023-12-05T17:35:40.123207094Z",
     "start_time": "2023-12-05T17:35:40.118909115Z"
    }
   },
   "id": "77a639297174c57c"
  },
  {
   "cell_type": "code",
   "execution_count": 3,
   "outputs": [],
   "source": [
    "# returning a value \n",
    "def my_function(x):\n",
    "    return x + 5"
   ],
   "metadata": {
    "collapsed": false,
    "ExecuteTime": {
     "end_time": "2023-12-05T17:36:39.348094686Z",
     "start_time": "2023-12-05T17:36:39.305463065Z"
    }
   },
   "id": "be484f0376f3c40f"
  },
  {
   "cell_type": "code",
   "execution_count": 4,
   "outputs": [
    {
     "name": "stdout",
     "output_type": "stream",
     "text": [
      "The youngest child is gear\n"
     ]
    }
   ],
   "source": [
    "# If you do not know how many arguments that will be passed into your\n",
    "# function, there is a prefix you can add in the function definition\n",
    "def my_function_(*kids):\n",
    "    print(\"The youngest child is \" + kids[2])\n",
    "my_function_(\"hello\", \"motto\", \"gear\")"
   ],
   "metadata": {
    "collapsed": false,
    "ExecuteTime": {
     "end_time": "2023-12-06T12:31:38.111622903Z",
     "start_time": "2023-12-06T12:31:38.109884547Z"
    }
   },
   "id": "741bebc426e039df"
  },
  {
   "cell_type": "code",
   "execution_count": 3,
   "outputs": [],
   "source": [
    "# If you do not know the number of keyword arguments that will be passed into\n",
    "# your function, there is a prefix you can add in the function definition, which prefix?\n",
    "def my_function_(**kid):\n",
    "    print(\"His last name is \" + kid[\"lname\"])"
   ],
   "metadata": {
    "collapsed": false,
    "ExecuteTime": {
     "end_time": "2023-12-06T07:08:28.091892785Z",
     "start_time": "2023-12-06T07:08:28.089534407Z"
    }
   },
   "id": "d642b9287187242a"
  },
  {
   "cell_type": "markdown",
   "source": [
    "# 10. Python lambda functions\n",
    "- A lambda function is a small anonymous function.\n",
    "- A lambda function can take any number of arguments, \n",
    "    but can only have one expression.\n",
    "- Use lambda functions when an anonymous function \n",
    "    is required for a short period of time.\n",
    "\n",
    "**Syntax :**\n",
    "\n",
    "`lambda arguments : expression` "
   ],
   "metadata": {
    "collapsed": false
   },
   "id": "8f76a2928e6dcd6"
  },
  {
   "cell_type": "code",
   "execution_count": 10,
   "outputs": [
    {
     "name": "stdout",
     "output_type": "stream",
     "text": [
      "35\n",
      "8\n",
      "6\n"
     ]
    }
   ],
   "source": [
    "x = lambda a : a + 10 # single argument lambda expression\n",
    "print(x(25)) # 35\n",
    "\n",
    "x = lambda a, b: a * b # multiply two numbers and return the result\n",
    "print(x(2, 4)) # 8\n",
    "\n",
    "x = lambda a, b, c: a + b + c # three numbers will be added\n",
    "print(x(1, 2, 3)) # 6"
   ],
   "metadata": {
    "collapsed": false,
    "ExecuteTime": {
     "end_time": "2023-12-06T12:47:23.264334229Z",
     "start_time": "2023-12-06T12:47:23.262135369Z"
    }
   },
   "id": "6892a6482feb9dd1"
  }
 ],
 "metadata": {
  "kernelspec": {
   "display_name": "Python 3",
   "language": "python",
   "name": "python3"
  },
  "language_info": {
   "codemirror_mode": {
    "name": "ipython",
    "version": 2
   },
   "file_extension": ".py",
   "mimetype": "text/x-python",
   "name": "python",
   "nbconvert_exporter": "python",
   "pygments_lexer": "ipython2",
   "version": "2.7.6"
  }
 },
 "nbformat": 4,
 "nbformat_minor": 5
}
