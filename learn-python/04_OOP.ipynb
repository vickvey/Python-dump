{
 "cells": [
  {
   "cell_type": "markdown",
   "source": [
    "# Object-Oriented Programming in Python"
   ],
   "metadata": {
    "collapsed": false
   },
   "id": "7fc6972c42645b73"
  },
  {
   "cell_type": "code",
   "execution_count": 1,
   "outputs": [
    {
     "name": "stdout",
     "output_type": "stream",
     "text": [
      "Chevy\n",
      "Corvette\n",
      "This car is driving\n",
      "\n",
      "This car is stopped\n"
     ]
    }
   ],
   "source": [
    "class Car: # class names should be capital (naming convention)\n",
    "    # you can pass arguments in the constructor method\n",
    "    def __init__(self, make, model, year, color):\n",
    "        self.make = make\n",
    "        self.model = model\n",
    "        self.year = year\n",
    "        self.color = color\n",
    "\n",
    "    # other methods\n",
    "    def drive(self):\n",
    "        print(\"This car is driving\\n\")\n",
    "    \n",
    "    def stop(self):\n",
    "        print(\"This car is stopped\\n\")\n",
    "    \n",
    "car_1 = Car(\"Chevy\", \"Corvette\", 2021, \"blue\")\n",
    "print(car_1.make)\n",
    "print(car_1.model)\n",
    "\n",
    "car_1.drive()\n",
    "car_1.stop()"
   ],
   "metadata": {
    "collapsed": false,
    "ExecuteTime": {
     "end_time": "2023-12-07T06:59:29.954768320Z",
     "start_time": "2023-12-07T06:59:29.951368728Z"
    }
   },
   "id": "2c5e7c02decbdd53"
  },
  {
   "cell_type": "code",
   "execution_count": 2,
   "outputs": [],
   "source": [
    "# The pass statement\n",
    "# class Person:\n",
    "#    pass\n",
    "# A class with no attributes\n"
   ],
   "metadata": {
    "collapsed": false,
    "ExecuteTime": {
     "end_time": "2023-12-07T07:01:39.387428542Z",
     "start_time": "2023-12-07T07:01:39.383934941Z"
    }
   },
   "id": "52cf1e0e49e8b18a"
  },
  {
   "cell_type": "markdown",
   "source": [
    "### 1. Python Inheritance\n",
    "\n",
    "- Inheritance allows us to define a class that inherits all the methods and properties from another class.\n",
    "\n",
    "- **Parent class** is the class being inherited from, also called base class.\n",
    "\n",
    "- **Child class** is the class that inherits from another class, also called derived class.\n",
    "\n",
    "- To create a child class that inherits the functionality from another class, send\n",
    "the parent class as a parameter when creating the child class:\n",
    "\n",
    "```python\n",
    "class Student(Person):\n",
    "    pass\n"
   ],
   "metadata": {
    "collapsed": false
   },
   "id": "11da0b3b24609549"
  },
  {
   "cell_type": "code",
   "execution_count": 2,
   "outputs": [
    {
     "name": "stdout",
     "output_type": "stream",
     "text": [
      "John\n"
     ]
    }
   ],
   "source": [
    "class Person:\n",
    "    def __init__(self, fname, lname):\n",
    "        self.firstname = fname\n",
    "        self.lastname = lname\n",
    "    \n",
    "    def printname(self):\n",
    "        print(self.firstname, self.lastname)\n",
    "        \n",
    "class Student(Person):\n",
    "    pass\n",
    "# Note: Use the pass keyword when you do not want to add any other properties \n",
    "# or methods to the class.\n",
    "\n",
    "x = Student(\"John\", \"Olsen\")\n",
    "x.printname()"
   ],
   "metadata": {
    "collapsed": false,
    "ExecuteTime": {
     "end_time": "2023-12-07T07:16:47.384118985Z",
     "start_time": "2023-12-07T07:16:47.341404963Z"
    }
   },
   "id": "8744b1f5d591afc8"
  },
  {
   "cell_type": "markdown",
   "source": [
    "- Adding init method into the derived class definition\n",
    "- When you add the `__init__()` function, the child class will no longer inherit the parent's `__init__()` function.\n",
    "- To keep the inheritance of the parent's __init__() function, add a call to the parent's __init__() function:\n",
    "```python\n",
    "Person.__init__(self, fname, lname)\n",
    "\n",
    "- Use the super() Function\n",
    "Python also has a super() function that will make the child class inherit all the methods and properties from its parent:"
   ],
   "metadata": {
    "collapsed": false
   },
   "id": "2d20e0c27015d877"
  },
  {
   "cell_type": "code",
   "execution_count": 3,
   "outputs": [],
   "source": [
    "class Student(Person):\n",
    "    def __init__(self, fname, lname, year):\n",
    "        Person.__init__(self, fname, lname)\n",
    "        # You can use super() too\n",
    "        # super().__init__(fname, lname)\n",
    "        \n",
    "        # adding new properties\n",
    "        self.year = year\n"
   ],
   "metadata": {
    "collapsed": false,
    "ExecuteTime": {
     "end_time": "2023-12-07T07:39:51.162790829Z",
     "start_time": "2023-12-07T07:39:51.118666294Z"
    }
   },
   "id": "44091f845dd39011"
  },
  {
   "cell_type": "code",
   "execution_count": null,
   "outputs": [],
   "source": [],
   "metadata": {
    "collapsed": false
   },
   "id": "95ac1fed1a65e32e"
  }
 ],
 "metadata": {
  "kernelspec": {
   "display_name": "Python 3",
   "language": "python",
   "name": "python3"
  },
  "language_info": {
   "codemirror_mode": {
    "name": "ipython",
    "version": 2
   },
   "file_extension": ".py",
   "mimetype": "text/x-python",
   "name": "python",
   "nbconvert_exporter": "python",
   "pygments_lexer": "ipython2",
   "version": "2.7.6"
  }
 },
 "nbformat": 4,
 "nbformat_minor": 5
}
